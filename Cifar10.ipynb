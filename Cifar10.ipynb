{
 "cells": [
  {
   "cell_type": "code",
   "execution_count": 1,
   "metadata": {},
   "outputs": [
    {
     "data": {
      "text/html": [
       "<div>\n",
       "<style scoped>\n",
       "    .dataframe tbody tr th:only-of-type {\n",
       "        vertical-align: middle;\n",
       "    }\n",
       "\n",
       "    .dataframe tbody tr th {\n",
       "        vertical-align: top;\n",
       "    }\n",
       "\n",
       "    .dataframe thead th {\n",
       "        text-align: right;\n",
       "    }\n",
       "</style>\n",
       "<table border=\"1\" class=\"dataframe\">\n",
       "  <thead>\n",
       "    <tr style=\"text-align: right;\">\n",
       "      <th></th>\n",
       "      <th>id</th>\n",
       "      <th>label</th>\n",
       "    </tr>\n",
       "  </thead>\n",
       "  <tbody>\n",
       "    <tr>\n",
       "      <th>0</th>\n",
       "      <td>1</td>\n",
       "      <td>frog</td>\n",
       "    </tr>\n",
       "    <tr>\n",
       "      <th>1</th>\n",
       "      <td>2</td>\n",
       "      <td>truck</td>\n",
       "    </tr>\n",
       "    <tr>\n",
       "      <th>2</th>\n",
       "      <td>3</td>\n",
       "      <td>truck</td>\n",
       "    </tr>\n",
       "    <tr>\n",
       "      <th>3</th>\n",
       "      <td>4</td>\n",
       "      <td>deer</td>\n",
       "    </tr>\n",
       "    <tr>\n",
       "      <th>4</th>\n",
       "      <td>5</td>\n",
       "      <td>automobile</td>\n",
       "    </tr>\n",
       "  </tbody>\n",
       "</table>\n",
       "</div>"
      ],
      "text/plain": [
       "   id       label\n",
       "0   1        frog\n",
       "1   2       truck\n",
       "2   3       truck\n",
       "3   4        deer\n",
       "4   5  automobile"
      ]
     },
     "execution_count": 1,
     "metadata": {},
     "output_type": "execute_result"
    }
   ],
   "source": [
    "import pandas as pd\n",
    "import numpy as np\n",
    "labels = pd.read_csv(\"/Users/mingliangang/Desktop/cifar10/trainLabels.csv\")\n",
    "labels.head()"
   ]
  },
  {
   "cell_type": "code",
   "execution_count": 2,
   "metadata": {
    "collapsed": true
   },
   "outputs": [],
   "source": [
    "label2id = {x:i for i,x in enumerate(list(set(labels[\"label\"])))}\n",
    "id2label = {i:x for i,x in enumerate(list(set(labels[\"label\"])))}\n",
    "labelcon = lambda x: label2id[x]\n",
    "labels['label'] = labels['label'].map(labelcon)\n",
    "labels_ = labels['label'].as_matrix()"
   ]
  },
  {
   "cell_type": "code",
   "execution_count": 3,
   "metadata": {},
   "outputs": [
    {
     "data": {
      "text/plain": [
       "0    9\n",
       "1    5\n",
       "2    5\n",
       "3    6\n",
       "4    8\n",
       "Name: label, dtype: int64"
      ]
     },
     "execution_count": 3,
     "metadata": {},
     "output_type": "execute_result"
    }
   ],
   "source": [
    "labels['label'].head()"
   ]
  },
  {
   "cell_type": "code",
   "execution_count": 4,
   "metadata": {},
   "outputs": [
    {
     "data": {
      "text/plain": [
       "array([9, 5, 5, ..., 5, 8, 8])"
      ]
     },
     "execution_count": 4,
     "metadata": {},
     "output_type": "execute_result"
    }
   ],
   "source": [
    "labels_"
   ]
  },
  {
   "cell_type": "markdown",
   "metadata": {},
   "source": [
    "# Sanity check"
   ]
  },
  {
   "cell_type": "code",
   "execution_count": 5,
   "metadata": {},
   "outputs": [
    {
     "data": {
      "text/plain": [
       "0          frog\n",
       "1         truck\n",
       "2         truck\n",
       "3          deer\n",
       "4    automobile\n",
       "Name: label, dtype: object"
      ]
     },
     "execution_count": 5,
     "metadata": {},
     "output_type": "execute_result"
    }
   ],
   "source": [
    "labels['label'].map(lambda x: id2label[x]).head()"
   ]
  },
  {
   "cell_type": "markdown",
   "metadata": {},
   "source": [
    "# Tensorflow input pipeline"
   ]
  },
  {
   "cell_type": "code",
   "execution_count": 6,
   "metadata": {
    "collapsed": true
   },
   "outputs": [],
   "source": [
    "import os\n",
    "from sklearn.model_selection import train_test_split\n",
    "import cv2\n",
    "train = np.array([cv2.imread(\"/Users/mingliangang/Desktop/cifar10/train/\"+i) for i in os.listdir(\"/Users/mingliangang/Desktop/cifar10/train\")]).astype(np.float32)\n",
    "one_hot = np.zeros((labels_.shape[0], 10))\n",
    "one_hot[np.arange(labels_.shape[0]), labels_] = 1\n",
    "X_train, X_val, y_train, y_val = train_test_split(train, one_hot, test_size=0.33, random_state=42)"
   ]
  },
  {
   "cell_type": "markdown",
   "metadata": {},
   "source": [
    "# Resnet Model"
   ]
  },
  {
   "cell_type": "code",
   "execution_count": 7,
   "metadata": {},
   "outputs": [
    {
     "name": "stdout",
     "output_type": "stream",
     "text": [
      "Tensor(\"Shape:0\", shape=(4,), dtype=int32, device=/device:GPU:0)\n"
     ]
    }
   ],
   "source": [
    "from models import resnet\n",
    "import tensorflow as tf\n",
    "\n",
    "batch_size = 128\n",
    "GPU = True\n",
    "summaries_dir = \"/Users/mingliangang/Desktop/resnet2/\"\n",
    "\n",
    "if GPU:\n",
    "    with tf.device('/device:GPU:0'):\n",
    "        X = tf.placeholder(\"float\", [batch_size, 32, 32, 3])\n",
    "        Y = tf.placeholder(\"float\", [batch_size, 10])\n",
    "        learning_rate = tf.placeholder(\"float\", [])\n",
    "        net = resnet(X,20)\n",
    "        cross_entropy = -tf.reduce_sum(Y*tf.log(net))\n",
    "        tf.summary.scalar('cross_entropy', cross_entropy)\n",
    "        opt = tf.train.MomentumOptimizer(learning_rate, 0.9,use_nesterov=True)\n",
    "        train_op = opt.minimize(cross_entropy)\n",
    "        \n",
    "    merged = tf.summary.merge_all()\n",
    "    config = tf.ConfigProto(allow_soft_placement = True)\n",
    "    sess = tf.Session(config = config)\n",
    "    writer = tf.summary.FileWriter(summaries_dir + '/gpu', sess.graph)\n",
    "    sess.run(tf.global_variables_initializer())\n",
    "    \n",
    "else:\n",
    "    with tf.device('/device:CPU:0'):\n",
    "        X = tf.placeholder(\"float\", [batch_size, 32, 32, 3])\n",
    "        Y = tf.placeholder(\"float\", [batch_size, 10])\n",
    "        learning_rate = tf.placeholder(\"float\", [])\n",
    "        net = resnet(X,20)\n",
    "        cross_entropy = -tf.reduce_sum(Y*tf.log(net))\n",
    "        tf.summary.scalar('cross_entropy', cross_entropy)\n",
    "        opt = tf.train.MomentumOptimizer(learning_rate, 0.9,use_nesterov=True)\n",
    "        train_op = opt.minimize(cross_entropy)\n",
    "        \n",
    "    merged = tf.summary.merge_all()\n",
    "    sess = tf.Session()\n",
    "    writer = tf.summary.FileWriter(summaries_dir + '/cpu', sess.graph)\n",
    "    sess.run(tf.global_variables_initializer())"
   ]
  },
  {
   "cell_type": "code",
   "execution_count": 8,
   "metadata": {},
   "outputs": [
    {
     "name": "stderr",
     "output_type": "stream",
     "text": [
      "100%|██████████| 1/1 [00:09<00:00,  9.15s/it]"
     ]
    },
    {
     "name": "stdout",
     "output_type": "stream",
     "text": [
      "295.189\n"
     ]
    },
    {
     "name": "stderr",
     "output_type": "stream",
     "text": [
      "\n"
     ]
    }
   ],
   "source": [
    "#Multiple epochs\n",
    "from tqdm import tqdm\n",
    "n_epochs = 1\n",
    "for _ in tqdm(range(n_epochs)):\n",
    "  i = 0\n",
    "  while True:\n",
    "    try:\n",
    "      x_batch = X_train[i*batch_size:(i+1)*batch_size]\n",
    "      y_batch = y_train[i*batch_size:(i+1)*batch_size]\n",
    "      summary,loss,_ = sess.run([merged,cross_entropy,train_op], feed_dict={X: x_batch, Y: y_batch,learning_rate: 0.001})\n",
    "      writer.add_summary(summary, i)\n",
    "      i+=1\n",
    "    except ValueError:\n",
    "      print(loss)\n",
    "      break"
   ]
  },
  {
   "cell_type": "code",
   "execution_count": null,
   "metadata": {
    "collapsed": true
   },
   "outputs": [],
   "source": []
  }
 ],
 "metadata": {
  "anaconda-cloud": {},
  "kernelspec": {
   "display_name": "Python [conda env:egpu]",
   "language": "python",
   "name": "conda-env-egpu-py"
  },
  "language_info": {
   "codemirror_mode": {
    "name": "ipython",
    "version": 3
   },
   "file_extension": ".py",
   "mimetype": "text/x-python",
   "name": "python",
   "nbconvert_exporter": "python",
   "pygments_lexer": "ipython3",
   "version": "3.6.2"
  }
 },
 "nbformat": 4,
 "nbformat_minor": 1
}
