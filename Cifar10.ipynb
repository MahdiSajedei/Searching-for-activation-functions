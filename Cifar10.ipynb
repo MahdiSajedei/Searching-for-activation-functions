{
 "cells": [
  {
   "cell_type": "code",
   "execution_count": 1,
   "metadata": {},
   "outputs": [
    {
     "data": {
      "text/html": [
       "<div>\n",
       "<style>\n",
       "    .dataframe thead tr:only-child th {\n",
       "        text-align: right;\n",
       "    }\n",
       "\n",
       "    .dataframe thead th {\n",
       "        text-align: left;\n",
       "    }\n",
       "\n",
       "    .dataframe tbody tr th {\n",
       "        vertical-align: top;\n",
       "    }\n",
       "</style>\n",
       "<table border=\"1\" class=\"dataframe\">\n",
       "  <thead>\n",
       "    <tr style=\"text-align: right;\">\n",
       "      <th></th>\n",
       "      <th>id</th>\n",
       "      <th>label</th>\n",
       "    </tr>\n",
       "  </thead>\n",
       "  <tbody>\n",
       "    <tr>\n",
       "      <th>0</th>\n",
       "      <td>1</td>\n",
       "      <td>frog</td>\n",
       "    </tr>\n",
       "    <tr>\n",
       "      <th>1</th>\n",
       "      <td>2</td>\n",
       "      <td>truck</td>\n",
       "    </tr>\n",
       "    <tr>\n",
       "      <th>2</th>\n",
       "      <td>3</td>\n",
       "      <td>truck</td>\n",
       "    </tr>\n",
       "    <tr>\n",
       "      <th>3</th>\n",
       "      <td>4</td>\n",
       "      <td>deer</td>\n",
       "    </tr>\n",
       "    <tr>\n",
       "      <th>4</th>\n",
       "      <td>5</td>\n",
       "      <td>automobile</td>\n",
       "    </tr>\n",
       "  </tbody>\n",
       "</table>\n",
       "</div>"
      ],
      "text/plain": [
       "   id       label\n",
       "0   1        frog\n",
       "1   2       truck\n",
       "2   3       truck\n",
       "3   4        deer\n",
       "4   5  automobile"
      ]
     },
     "execution_count": 1,
     "metadata": {},
     "output_type": "execute_result"
    }
   ],
   "source": [
    "import pandas as pd\n",
    "import numpy as np\n",
    "labels = pd.read_csv(\"/Users/mingliangang/Desktop/cifar10/trainLabels.csv\")\n",
    "labels.head()"
   ]
  },
  {
   "cell_type": "code",
   "execution_count": 2,
   "metadata": {
    "collapsed": true
   },
   "outputs": [],
   "source": [
    "label2id = {x:i for i,x in enumerate(list(set(labels[\"label\"])))}\n",
    "id2label = {i:x for i,x in enumerate(list(set(labels[\"label\"])))}\n",
    "labelcon = lambda x: label2id[x]\n",
    "labels['label'] = labels['label'].map(labelcon)\n",
    "labels_ = labels['label'].as_matrix()"
   ]
  },
  {
   "cell_type": "code",
   "execution_count": 3,
   "metadata": {},
   "outputs": [
    {
     "data": {
      "text/plain": [
       "0    3\n",
       "1    8\n",
       "2    8\n",
       "3    2\n",
       "4    5\n",
       "Name: label, dtype: int64"
      ]
     },
     "execution_count": 3,
     "metadata": {},
     "output_type": "execute_result"
    }
   ],
   "source": [
    "labels['label'].head()"
   ]
  },
  {
   "cell_type": "code",
   "execution_count": 4,
   "metadata": {},
   "outputs": [
    {
     "data": {
      "text/plain": [
       "array([3, 8, 8, ..., 8, 5, 5])"
      ]
     },
     "execution_count": 4,
     "metadata": {},
     "output_type": "execute_result"
    }
   ],
   "source": [
    "labels_"
   ]
  },
  {
   "cell_type": "markdown",
   "metadata": {},
   "source": [
    "# Sanity check"
   ]
  },
  {
   "cell_type": "code",
   "execution_count": 5,
   "metadata": {},
   "outputs": [
    {
     "data": {
      "text/plain": [
       "0          frog\n",
       "1         truck\n",
       "2         truck\n",
       "3          deer\n",
       "4    automobile\n",
       "Name: label, dtype: object"
      ]
     },
     "execution_count": 5,
     "metadata": {},
     "output_type": "execute_result"
    }
   ],
   "source": [
    "labels['label'].map(lambda x: id2label[x]).head()"
   ]
  },
  {
   "cell_type": "markdown",
   "metadata": {},
   "source": [
    "# Tensorflow input pipeline"
   ]
  },
  {
   "cell_type": "code",
   "execution_count": 6,
   "metadata": {
    "collapsed": true
   },
   "outputs": [],
   "source": [
    "import os\n",
    "from sklearn.model_selection import train_test_split\n",
    "train = [\"/Users/mingliangang/Desktop/cifar10/train/\"+i for i in os.listdir(\"/Users/mingliangang/Desktop/cifar10/train\")]\n",
    "X_train, X_val, y_train, y_val = train_test_split(train, labels_, test_size=0.33, random_state=42)"
   ]
  },
  {
   "cell_type": "code",
   "execution_count": 7,
   "metadata": {
    "collapsed": true
   },
   "outputs": [],
   "source": [
    "import tensorflow as tf\n",
    "\n",
    "NUM_CLASSES = 10 \n",
    "def input_parser(img_path, label):\n",
    "    # convert the label to one-hot encoding\n",
    "    one_hot = tf.one_hot(label, NUM_CLASSES)\n",
    "\n",
    "    # read the img from file\n",
    "    img_file = tf.read_file(img_path)\n",
    "    img_decoded = tf.image.decode_image(img_file, channels=3)\n",
    "\n",
    "    return tf.cast(img_decoded,tf.float32), one_hot"
   ]
  },
  {
   "cell_type": "code",
   "execution_count": 10,
   "metadata": {},
   "outputs": [
    {
     "data": {
      "text/plain": [
       "'1.3.0'"
      ]
     },
     "execution_count": 10,
     "metadata": {},
     "output_type": "execute_result"
    }
   ],
   "source": [
    "tf.__version__"
   ]
  },
  {
   "cell_type": "code",
   "execution_count": 8,
   "metadata": {
    "collapsed": true
   },
   "outputs": [],
   "source": [
    "from tensorflow.contrib.data import Dataset\n",
    "tr_data = Dataset.from_tensor_slices((X_train, y_train))"
   ]
  },
  {
   "cell_type": "code",
   "execution_count": 9,
   "metadata": {
    "collapsed": true
   },
   "outputs": [],
   "source": [
    "tr_data = tr_data.map(input_parser)"
   ]
  },
  {
   "cell_type": "code",
   "execution_count": 10,
   "metadata": {
    "collapsed": true
   },
   "outputs": [],
   "source": [
    "batch_size = 128\n",
    "batched_dataset = tr_data.batch(batch_size)\n",
    "iterator = batched_dataset.make_initializable_iterator()\n",
    "next_element = iterator.get_next()"
   ]
  },
  {
   "cell_type": "code",
   "execution_count": 11,
   "metadata": {
    "collapsed": true
   },
   "outputs": [],
   "source": [
    "sess = tf.Session()"
   ]
  },
  {
   "cell_type": "markdown",
   "metadata": {},
   "source": [
    "# Resnet Model"
   ]
  },
  {
   "cell_type": "code",
   "execution_count": 12,
   "metadata": {},
   "outputs": [
    {
     "name": "stdout",
     "output_type": "stream",
     "text": [
      "Tensor(\"Shape:0\", shape=(4,), dtype=int32)\n"
     ]
    }
   ],
   "source": [
    "from models import resnet\n",
    "X = tf.placeholder(\"float\", [batch_size, 32, 32, 3])\n",
    "Y = tf.placeholder(\"float\", [batch_size, 10])\n",
    "learning_rate = tf.placeholder(\"float\", [])\n",
    "net = resnet(X,20)\n",
    "cross_entropy = -tf.reduce_sum(Y*tf.log(net))\n",
    "opt = tf.train.MomentumOptimizer(learning_rate, 0.9,use_nesterov=True)\n",
    "train_op = opt.minimize(cross_entropy)\n",
    "\n",
    "# with tf.device('/device:GPU:0'):\n",
    "#     X = tf.placeholder(\"float\", [batch_size, 32, 32, 3])\n",
    "#     Y = tf.placeholder(\"float\", [batch_size, 10])\n",
    "#     learning_rate = tf.placeholder(\"float\", [])\n",
    "#     net = resnet(X,20)\n",
    "#     cross_entropy = -tf.reduce_sum(Y*tf.log(net))\n",
    "#     opt = tf.train.MomentumOptimizer(learning_rate, 0.9,use_nesterov=True)\n",
    "#     train_op = opt.minimize(cross_entropy)\n",
    "    \n",
    "sess = tf.Session()\n",
    "sess.run(tf.global_variables_initializer())\n",
    "\n"
   ]
  },
  {
   "cell_type": "code",
   "execution_count": 13,
   "metadata": {},
   "outputs": [
    {
     "name": "stdout",
     "output_type": "stream",
     "text": [
      "297.543\n",
      "294.721\n",
      "296.94\n",
      "296.021\n",
      "295.627\n",
      "295.157\n",
      "294.753\n",
      "294.933\n",
      "294.199\n",
      "294.026\n",
      "295.399\n",
      "296.732\n",
      "294.382\n",
      "295.115\n",
      "296.814\n",
      "296.134\n",
      "294.432\n",
      "294.428\n",
      "295.675\n",
      "295.061\n",
      "295.217\n",
      "295.639\n",
      "294.306\n",
      "296.607\n",
      "295.74\n",
      "293.285\n",
      "297.183\n",
      "295.338\n",
      "295.439\n",
      "296.409\n",
      "294.795\n",
      "294.694\n",
      "293.149\n",
      "294.017\n",
      "294.718\n",
      "295.856\n",
      "293.735\n",
      "296.767\n",
      "295.484\n",
      "294.968\n",
      "296.8\n",
      "295.216\n",
      "294.853\n",
      "295.463\n",
      "296.018\n",
      "295.279\n",
      "296.282\n",
      "295.435\n",
      "294.649\n",
      "294.745\n",
      "294.789\n",
      "295.014\n",
      "295.112\n",
      "293.367\n",
      "293.047\n",
      "296.938\n",
      "295.318\n",
      "293.513\n",
      "295.324\n",
      "296.531\n",
      "296.805\n",
      "294.503\n",
      "295.352\n",
      "294.923\n",
      "293.891\n",
      "295.346\n",
      "295.507\n",
      "295.893\n",
      "294.284\n",
      "296.971\n",
      "297.693\n",
      "295.312\n",
      "295.486\n",
      "296.156\n",
      "296.964\n",
      "294.633\n",
      "295.123\n",
      "294.712\n",
      "295.232\n",
      "294.673\n",
      "296.024\n",
      "294.739\n",
      "295.271\n",
      "295.467\n",
      "295.052\n",
      "295.488\n",
      "294.932\n",
      "295.434\n",
      "294.394\n",
      "293.964\n",
      "294.283\n",
      "294.19\n",
      "295.331\n",
      "293.871\n",
      "296.783\n",
      "294.621\n",
      "294.776\n",
      "296.061\n",
      "295.852\n",
      "294.645\n",
      "294.491\n",
      "295.603\n",
      "295.854\n",
      "295.58\n",
      "294.288\n",
      "295.774\n",
      "294.774\n",
      "294.777\n",
      "294.769\n",
      "295.037\n",
      "295.221\n",
      "294.06\n",
      "295.805\n",
      "293.578\n",
      "292.654\n",
      "294.314\n",
      "294.908\n",
      "295.206\n",
      "295.828\n",
      "297.185\n",
      "296.664\n",
      "294.597\n",
      "294.954\n",
      "295.465\n",
      "294.829\n",
      "295.159\n",
      "296.044\n",
      "293.413\n",
      "295.382\n",
      "295.113\n"
     ]
    }
   ],
   "source": [
    "#Multiple epochs\n",
    "n_epochs = 1\n",
    "for _ in range(n_epochs ):\n",
    "  sess.run(iterator.initializer)\n",
    "  while True:\n",
    "    try:\n",
    "      #There must be a better way tensor -> numpy -> tensor it seems kinda of stupid, there must be a better way to pipe. \n",
    "      loss,_ = sess.run([cross_entropy,train_op], feed_dict={X: sess.run(next_element[0]), Y: sess.run(next_element[1]),learning_rate: 0.001})\n",
    "      print(loss)\n",
    "    except ValueError:\n",
    "      break"
   ]
  },
  {
   "cell_type": "code",
   "execution_count": null,
   "metadata": {
    "collapsed": true
   },
   "outputs": [],
   "source": []
  }
 ],
 "metadata": {
  "anaconda-cloud": {},
  "kernelspec": {
   "display_name": "Python [default]",
   "language": "python",
   "name": "python3"
  },
  "language_info": {
   "codemirror_mode": {
    "name": "ipython",
    "version": 3
   },
   "file_extension": ".py",
   "mimetype": "text/x-python",
   "name": "python",
   "nbconvert_exporter": "python",
   "pygments_lexer": "ipython3",
   "version": "3.5.2"
  }
 },
 "nbformat": 4,
 "nbformat_minor": 1
}
