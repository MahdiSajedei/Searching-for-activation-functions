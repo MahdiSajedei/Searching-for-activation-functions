{
 "cells": [
  {
   "cell_type": "code",
   "execution_count": 1,
   "metadata": {},
   "outputs": [
    {
     "data": {
      "text/html": [
       "<div>\n",
       "<style>\n",
       "    .dataframe thead tr:only-child th {\n",
       "        text-align: right;\n",
       "    }\n",
       "\n",
       "    .dataframe thead th {\n",
       "        text-align: left;\n",
       "    }\n",
       "\n",
       "    .dataframe tbody tr th {\n",
       "        vertical-align: top;\n",
       "    }\n",
       "</style>\n",
       "<table border=\"1\" class=\"dataframe\">\n",
       "  <thead>\n",
       "    <tr style=\"text-align: right;\">\n",
       "      <th></th>\n",
       "      <th>id</th>\n",
       "      <th>label</th>\n",
       "    </tr>\n",
       "  </thead>\n",
       "  <tbody>\n",
       "    <tr>\n",
       "      <th>0</th>\n",
       "      <td>1</td>\n",
       "      <td>frog</td>\n",
       "    </tr>\n",
       "    <tr>\n",
       "      <th>1</th>\n",
       "      <td>2</td>\n",
       "      <td>truck</td>\n",
       "    </tr>\n",
       "    <tr>\n",
       "      <th>2</th>\n",
       "      <td>3</td>\n",
       "      <td>truck</td>\n",
       "    </tr>\n",
       "    <tr>\n",
       "      <th>3</th>\n",
       "      <td>4</td>\n",
       "      <td>deer</td>\n",
       "    </tr>\n",
       "    <tr>\n",
       "      <th>4</th>\n",
       "      <td>5</td>\n",
       "      <td>automobile</td>\n",
       "    </tr>\n",
       "  </tbody>\n",
       "</table>\n",
       "</div>"
      ],
      "text/plain": [
       "   id       label\n",
       "0   1        frog\n",
       "1   2       truck\n",
       "2   3       truck\n",
       "3   4        deer\n",
       "4   5  automobile"
      ]
     },
     "execution_count": 1,
     "metadata": {},
     "output_type": "execute_result"
    }
   ],
   "source": [
    "import pandas as pd\n",
    "import numpy as np\n",
    "labels = pd.read_csv(\"/Users/mingliangang/Desktop/cifar10/trainLabels.csv\")\n",
    "labels.head()"
   ]
  },
  {
   "cell_type": "code",
   "execution_count": 2,
   "metadata": {
    "collapsed": true
   },
   "outputs": [],
   "source": [
    "label2id = {x:i for i,x in enumerate(list(set(labels[\"label\"])))}\n",
    "id2label = {i:x for i,x in enumerate(list(set(labels[\"label\"])))}\n",
    "labelcon = lambda x: label2id[x]\n",
    "labels['label'] = labels['label'].map(labelcon)\n",
    "labels_ = labels['label'].as_matrix()"
   ]
  },
  {
   "cell_type": "code",
   "execution_count": 3,
   "metadata": {},
   "outputs": [
    {
     "data": {
      "text/plain": [
       "0    3\n",
       "1    5\n",
       "2    5\n",
       "3    0\n",
       "4    8\n",
       "Name: label, dtype: int64"
      ]
     },
     "execution_count": 3,
     "metadata": {},
     "output_type": "execute_result"
    }
   ],
   "source": [
    "labels['label'].head()"
   ]
  },
  {
   "cell_type": "code",
   "execution_count": 4,
   "metadata": {},
   "outputs": [
    {
     "data": {
      "text/plain": [
       "array([3, 5, 5, ..., 5, 8, 8])"
      ]
     },
     "execution_count": 4,
     "metadata": {},
     "output_type": "execute_result"
    }
   ],
   "source": [
    "labels_"
   ]
  },
  {
   "cell_type": "markdown",
   "metadata": {},
   "source": [
    "# Sanity check"
   ]
  },
  {
   "cell_type": "code",
   "execution_count": 5,
   "metadata": {},
   "outputs": [
    {
     "data": {
      "text/plain": [
       "0          frog\n",
       "1         truck\n",
       "2         truck\n",
       "3          deer\n",
       "4    automobile\n",
       "Name: label, dtype: object"
      ]
     },
     "execution_count": 5,
     "metadata": {},
     "output_type": "execute_result"
    }
   ],
   "source": [
    "labels['label'].map(lambda x: id2label[x]).head()"
   ]
  },
  {
   "cell_type": "markdown",
   "metadata": {},
   "source": [
    "# Tensorflow input pipeline"
   ]
  },
  {
   "cell_type": "code",
   "execution_count": 6,
   "metadata": {
    "collapsed": true
   },
   "outputs": [],
   "source": [
    "import os\n",
    "from sklearn.model_selection import train_test_split\n",
    "train = [\"/Users/mingliangang/Desktop/cifar10/train/\"+i for i in os.listdir(\"/Users/mingliangang/Desktop/cifar10/train\")]\n",
    "X_train, X_val, y_train, y_val = train_test_split(train, labels_, test_size=0.33, random_state=42)"
   ]
  },
  {
   "cell_type": "code",
   "execution_count": 7,
   "metadata": {
    "collapsed": true
   },
   "outputs": [],
   "source": [
    "import tensorflow as tf\n",
    "\n",
    "NUM_CLASSES = 10 \n",
    "def input_parser(img_path, label):\n",
    "    # convert the label to one-hot encoding\n",
    "    one_hot = tf.one_hot(label, NUM_CLASSES)\n",
    "\n",
    "    # read the img from file\n",
    "    img_file = tf.read_file(img_path)\n",
    "    img_decoded = tf.image.decode_image(img_file, channels=3)\n",
    "\n",
    "    return tf.cast(img_decoded,tf.float32), one_hot"
   ]
  },
  {
   "cell_type": "code",
   "execution_count": 8,
   "metadata": {
    "collapsed": true
   },
   "outputs": [],
   "source": [
    "from tensorflow.contrib.data import Dataset\n",
    "tr_data = Dataset.from_tensor_slices((X_train, y_train))"
   ]
  },
  {
   "cell_type": "code",
   "execution_count": 9,
   "metadata": {},
   "outputs": [],
   "source": [
    "tr_data = tr_data.map(input_parser)"
   ]
  },
  {
   "cell_type": "code",
   "execution_count": 26,
   "metadata": {},
   "outputs": [],
   "source": [
    "batch_size = 128\n",
    "batched_dataset = tr_data.batch(batch_size)\n",
    "iterator = batched_dataset.make_initializable_iterator()\n",
    "next_element = iterator.get_next()"
   ]
  },
  {
   "cell_type": "code",
   "execution_count": 27,
   "metadata": {
    "collapsed": true
   },
   "outputs": [],
   "source": [
    "sess = tf.Session()"
   ]
  },
  {
   "cell_type": "markdown",
   "metadata": {},
   "source": [
    "# Resnet Model"
   ]
  },
  {
   "cell_type": "code",
   "execution_count": 29,
   "metadata": {},
   "outputs": [
    {
     "name": "stdout",
     "output_type": "stream",
     "text": [
      "Tensor(\"Shape_2:0\", shape=(4,), dtype=int32)\n"
     ]
    }
   ],
   "source": [
    "from models import resnet\n",
    "X = tf.placeholder(\"float\", [batch_size, 32, 32, 3])\n",
    "Y = tf.placeholder(\"float\", [batch_size, 10])\n",
    "learning_rate = tf.placeholder(\"float\", [])\n",
    "net = resnet(X,20)"
   ]
  },
  {
   "cell_type": "code",
   "execution_count": 38,
   "metadata": {},
   "outputs": [],
   "source": [
    "cross_entropy = -tf.reduce_sum(Y*tf.log(net))\n",
    "opt = tf.train.MomentumOptimizer(learning_rate, 0.9,use_nesterov=True)\n",
    "train_op = opt.minimize(cross_entropy)\n",
    "\n",
    "sess = tf.Session()\n",
    "sess.run(tf.global_variables_initializer())"
   ]
  },
  {
   "cell_type": "code",
   "execution_count": null,
   "metadata": {},
   "outputs": [
    {
     "name": "stdout",
     "output_type": "stream",
     "text": [
      "298.136\n",
      "294.806\n",
      "297.751\n",
      "293.189\n",
      "294.576\n",
      "293.41\n",
      "292.511\n",
      "293.745\n",
      "296.361\n",
      "294.799\n",
      "295.913\n",
      "295.473\n",
      "294.906\n",
      "294.93\n",
      "295.88\n",
      "295.505\n",
      "293.637\n",
      "295.352\n",
      "296.006\n",
      "294.988\n",
      "295.651\n",
      "294.941\n",
      "294.136\n",
      "296.831\n",
      "294.307\n",
      "294.153\n",
      "297.103\n",
      "294.766\n",
      "296.356\n",
      "294.264\n",
      "294.773\n",
      "294.173\n",
      "293.694\n",
      "294.727\n",
      "294.874\n",
      "296.087\n",
      "294.035\n",
      "296.3\n",
      "295.844\n",
      "294.72\n",
      "295.937\n",
      "295.011\n",
      "294.818\n",
      "295.408\n",
      "295.59\n",
      "295.549\n",
      "295.376\n",
      "295.746\n",
      "294.092\n",
      "295.468\n",
      "294.35\n",
      "294.458\n",
      "294.858\n",
      "293.89\n",
      "293.448\n",
      "296.286\n",
      "294.972\n",
      "293.296\n",
      "295.601\n",
      "295.822\n",
      "297.2\n",
      "294.556\n",
      "295.183\n",
      "293.896\n",
      "294.571\n",
      "295.051\n",
      "294.953\n",
      "295.876\n",
      "295.006\n",
      "296.561\n",
      "297.249\n",
      "294.652\n",
      "295.832\n",
      "295.403\n",
      "296.879\n",
      "294.698\n",
      "295.161\n",
      "294.553\n",
      "294.727\n",
      "294.716\n",
      "295.059\n",
      "294.018\n",
      "294.788\n",
      "295.392\n",
      "294.8\n",
      "295.412\n",
      "294.59\n",
      "295.219\n",
      "294.279\n",
      "294.336\n",
      "294.009\n",
      "294.567\n",
      "295.215\n",
      "293.958\n",
      "296.409\n",
      "294.132\n",
      "294.611\n",
      "295.613\n",
      "295.672\n",
      "294.684\n"
     ]
    }
   ],
   "source": [
    "#Multiple epochs\n",
    "n_epochs = 1\n",
    "for _ in range(n_epochs ):\n",
    "  sess.run(iterator.initializer)\n",
    "  while True:\n",
    "    try:\n",
    "      #There must be a better way tensor -> numpy -> tensor it seems kinda of stupid, there must be a better way to pipe. \n",
    "      loss,_ = sess.run([cross_entropy,train_op], feed_dict={X: sess.run(next_element[0]), Y: sess.run(next_element[1]),learning_rate: 0.001})\n",
    "      print(loss)\n",
    "    except ValueError:\n",
    "      break"
   ]
  },
  {
   "cell_type": "code",
   "execution_count": null,
   "metadata": {
    "collapsed": true
   },
   "outputs": [],
   "source": []
  }
 ],
 "metadata": {
  "anaconda-cloud": {},
  "kernelspec": {
   "display_name": "Python [conda root]",
   "language": "python",
   "name": "conda-root-py"
  },
  "language_info": {
   "codemirror_mode": {
    "name": "ipython",
    "version": 3
   },
   "file_extension": ".py",
   "mimetype": "text/x-python",
   "name": "python",
   "nbconvert_exporter": "python",
   "pygments_lexer": "ipython3",
   "version": "3.5.2"
  }
 },
 "nbformat": 4,
 "nbformat_minor": 1
}
